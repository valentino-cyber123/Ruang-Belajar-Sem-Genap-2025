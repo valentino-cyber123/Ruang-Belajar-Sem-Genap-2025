{
 "cells": [
  {
   "cell_type": "code",
   "execution_count": 3,
   "id": "d53cddd1-3cc7-4a8a-9d17-70cec7de87ad",
   "metadata": {},
   "outputs": [
    {
     "name": "stdout",
     "output_type": "stream",
     "text": [
      "Nama file1: soal.txt\n",
      "\n",
      "1+1 =\n"
     ]
    },
    {
     "name": "stdin",
     "output_type": "stream",
     "text": [
      "Jawab:  2\n"
     ]
    },
    {
     "name": "stdout",
     "output_type": "stream",
     "text": [
      "Jawaban benar!\n",
      "\n",
      "Bendera Indonesia?\n"
     ]
    },
    {
     "name": "stdin",
     "output_type": "stream",
     "text": [
      "Jawab:  Merah Putih\n"
     ]
    },
    {
     "name": "stdout",
     "output_type": "stream",
     "text": [
      "Jawaban benar!\n",
      "\n",
      "Kota gudeg adalah:\n"
     ]
    },
    {
     "name": "stdin",
     "output_type": "stream",
     "text": [
      "Jawab:  Yogyakarta\n"
     ]
    },
    {
     "name": "stdout",
     "output_type": "stream",
     "text": [
      "Jawaban benar!\n",
      "\n",
      "Komponen PC untuk penyimpanan file adalah...\n"
     ]
    },
    {
     "name": "stdin",
     "output_type": "stream",
     "text": [
      "Jawab:  harddisk\n"
     ]
    },
    {
     "name": "stdout",
     "output_type": "stream",
     "text": [
      "Jawaban benar!\n",
      "\n",
      "50 * 100 =\n"
     ]
    },
    {
     "name": "stdin",
     "output_type": "stream",
     "text": [
      "Jawab:  5000\n"
     ]
    },
    {
     "name": "stdout",
     "output_type": "stream",
     "text": [
      "Jawaban benar!\n",
      "\n"
     ]
    }
   ],
   "source": [
    "def tampilkan_soal(direktori_file):\n",
    "    print(f\"Nama file1: {direktori_file}\\n\")\n",
    "\n",
    "    with open(direktori_file, 'r', encoding='utf-8') as file:\n",
    "        baris_soal = file.readlines()\n",
    "\n",
    "    for baris in baris_soal:\n",
    "        if \"||\" in baris:\n",
    "            soal, jawaban = baris.strip().split(\"||\")\n",
    "            soal = soal.strip()\n",
    "            jawaban = jawaban.strip().lower()  # Jawaban kunci diubah ke huruf kecil\n",
    "\n",
    "            print(soal)\n",
    "            user_jawab = input(\"Jawab: \").strip().lower()\n",
    "\n",
    "            if user_jawab == jawaban:\n",
    "                print(\"Jawaban benar!\\n\")\n",
    "            else:\n",
    "                print(\"Jawaban salah!\\n\")\n",
    "\n",
    "with open(\"soal.txt\", \"w\", encoding=\"utf-8\") as f:\n",
    "    f.write(\"\"\"1+1 = || 2\n",
    "Bendera Indonesia? || Merah Putih\n",
    "Kota gudeg adalah: || Yogyakarta\n",
    "Komponen PC untuk penyimpanan file adalah... || harddisk\n",
    "50 * 100 = || 5000\"\"\")\n",
    "\n",
    "tampilkan_soal(\"soal.txt\")\n"
   ]
  },
  {
   "cell_type": "code",
   "execution_count": null,
   "id": "8777d4d5-e557-498c-b382-954593d9ecd4",
   "metadata": {},
   "outputs": [],
   "source": []
  }
 ],
 "metadata": {
  "kernelspec": {
   "display_name": "Python [conda env:base] *",
   "language": "python",
   "name": "conda-base-py"
  },
  "language_info": {
   "codemirror_mode": {
    "name": "ipython",
    "version": 3
   },
   "file_extension": ".py",
   "mimetype": "text/x-python",
   "name": "python",
   "nbconvert_exporter": "python",
   "pygments_lexer": "ipython3",
   "version": "3.12.7"
  }
 },
 "nbformat": 4,
 "nbformat_minor": 5
}
