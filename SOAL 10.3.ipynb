{
 "cells": [
  {
   "cell_type": "code",
   "execution_count": 1,
   "id": "99be81c9-a121-44ab-b586-15826816fc3b",
   "metadata": {},
   "outputs": [
    {
     "name": "stdout",
     "output_type": "stream",
     "text": [
      "\n",
      "Kata-kata unik dalam artikel:\n",
      "------------------------------\n",
      "1. adalah\n",
      "2. bahasa\n",
      "3. bangsa\n",
      "4. budaya\n",
      "5. dan\n",
      "6. dari\n",
      "7. di\n",
      "8. dunia\n",
      "9. indonesia\n",
      "10. ini\n",
      "11. kekayaan\n",
      "12. kepulauan\n",
      "13. keragaman\n",
      "14. memiliki\n",
      "15. menjadi\n",
      "16. merauke\n",
      "17. negara\n",
      "18. pulau\n",
      "19. ribuan\n",
      "20. sabang\n",
      "21. sampai\n",
      "22. terbesar\n",
      "23. tersebar\n",
      "24. yang\n"
     ]
    }
   ],
   "source": [
    "def cari_kata_unik(nama_file):\n",
    "    try:\n",
    "        with open(nama_file, 'r', encoding='utf-8') as file:\n",
    "            teks = file.read()\n",
    "            tanda_baca = r'''!()-[]{};:'\"\\,<>./?@#$%^&*_~'''\n",
    "            for char in tanda_baca:\n",
    "                teks = teks.replace(char, ' ')\n",
    "            kata_kata = teks.lower().split()\n",
    "            kata_unik = set(kata_kata)\n",
    "            return kata_unik\n",
    "\n",
    "    except FileNotFoundError:\n",
    "        print(f\"File {nama_file} tidak ditemukan.\")\n",
    "        return set()\n",
    "    except Exception as e:\n",
    "        print(f\"Terjadi kesalahan: {e}\")\n",
    "        return set()\n",
    "\n",
    "if __name__ == \"__main__\":\n",
    "    nama_file = \"C:/Users/A S U S/Documents/71241126/WEEK 11/10.3/artikel.txt\"\n",
    "    \n",
    "    unik = cari_kata_unik(nama_file)\n",
    "\n",
    "    print(\"\\nKata-kata unik dalam artikel:\")\n",
    "    print(\"-\" * 30)\n",
    "    for i, kata in enumerate(sorted(unik), 1):\n",
    "        print(f\"{i}. {kata}\")"
   ]
  },
  {
   "cell_type": "code",
   "execution_count": null,
   "id": "cc78f1dd-92c9-4e50-ac1d-6a1b7479e500",
   "metadata": {},
   "outputs": [],
   "source": []
  }
 ],
 "metadata": {
  "kernelspec": {
   "display_name": "Python [conda env:base] *",
   "language": "python",
   "name": "conda-base-py"
  },
  "language_info": {
   "codemirror_mode": {
    "name": "ipython",
    "version": 3
   },
   "file_extension": ".py",
   "mimetype": "text/x-python",
   "name": "python",
   "nbconvert_exporter": "python",
   "pygments_lexer": "ipython3",
   "version": "3.12.7"
  }
 },
 "nbformat": 4,
 "nbformat_minor": 5
}
