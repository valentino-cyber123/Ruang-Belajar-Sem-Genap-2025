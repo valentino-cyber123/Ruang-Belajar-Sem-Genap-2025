{
 "cells": [
  {
   "cell_type": "code",
   "execution_count": 3,
   "id": "40f1fbd9-16d7-47bc-b53c-48d5d59d8e4d",
   "metadata": {},
   "outputs": [
    {
     "name": "stdin",
     "output_type": "stream",
     "text": [
      "Masukkan nilai x (bilangan bulat):  9\n"
     ]
    },
    {
     "name": "stdout",
     "output_type": "stream",
     "text": [
      "Hasil dari fungsi f(x) = 2x^3 + 2x + 15/x adalah: 1477.6666666666667\n"
     ]
    }
   ],
   "source": [
    "# Menghitung Hasil Fungsi f(x) = 2x^3 + 2x + 15/x\n",
    "\n",
    "x = int(input(\"Masukkan nilai x (bilangan bulat): \"))\n",
    "\n",
    "if x == 0:\n",
    "    print(\"Error: Pembagian dengan nol tidak diperbolehkan.\")\n",
    "else:\n",
    "    hasil = (2 * (x ** 3)) + (2 * x) + (15 / x)\n",
    "print(f\"Hasil dari fungsi f(x) = 2x^3 + 2x + 15/x adalah: {hasil}\")"
   ]
  },
  {
   "cell_type": "code",
   "execution_count": null,
   "id": "54d2508d-b401-44ee-ac59-dd309d842091",
   "metadata": {},
   "outputs": [],
   "source": []
  }
 ],
 "metadata": {
  "kernelspec": {
   "display_name": "Python [conda env:base] *",
   "language": "python",
   "name": "conda-base-py"
  },
  "language_info": {
   "codemirror_mode": {
    "name": "ipython",
    "version": 3
   },
   "file_extension": ".py",
   "mimetype": "text/x-python",
   "name": "python",
   "nbconvert_exporter": "python",
   "pygments_lexer": "ipython3",
   "version": "3.12.7"
  }
 },
 "nbformat": 4,
 "nbformat_minor": 5
}
