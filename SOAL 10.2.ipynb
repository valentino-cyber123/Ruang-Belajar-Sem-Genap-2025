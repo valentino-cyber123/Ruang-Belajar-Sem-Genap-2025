{
 "cells": [
  {
   "cell_type": "code",
   "execution_count": 3,
   "id": "3d0b6685-acf1-4a06-b3f6-fde0a7a7e46f",
   "metadata": {},
   "outputs": [
    {
     "name": "stdin",
     "output_type": "stream",
     "text": [
      "Masukkan bilangan (atau ketik 'done' untuk selesai):  12\n",
      "Masukkan bilangan (atau ketik 'done' untuk selesai):  13\n",
      "Masukkan bilangan (atau ketik 'done' untuk selesai):  done\n"
     ]
    },
    {
     "name": "stdout",
     "output_type": "stream",
     "text": [
      "Rata-rata dari bilangan yang dimasukkan adalah: 12.5\n"
     ]
    }
   ],
   "source": [
    "def hitung_rata_rata():\n",
    "    angka = []\n",
    "\n",
    "    while True:\n",
    "        masukan = input(\"Masukkan bilangan (atau ketik 'done' untuk selesai): \")\n",
    "\n",
    "        if masukan.lower() == \"done\":\n",
    "            break\n",
    "        try:\n",
    "            nilai = float(masukan)\n",
    "            angka.append(nilai)\n",
    "        except ValueError:\n",
    "            print(\"Input tidak valid. Masukkan bilangan atau 'done'.\")\n",
    "\n",
    "    if angka:\n",
    "        rata_rata = sum(angka) / len(angka)\n",
    "        print(f\"Rata-rata dari bilangan yang dimasukkan adalah: {rata_rata}\")\n",
    "    else:\n",
    "        print(\"Tidak ada bilangan yang dimasukkan.\")\n",
    "\n",
    "hitung_rata_rata()"
   ]
  },
  {
   "cell_type": "code",
   "execution_count": null,
   "id": "d73358d3-f146-482f-a1bf-fb2180f670b0",
   "metadata": {},
   "outputs": [],
   "source": []
  }
 ],
 "metadata": {
  "kernelspec": {
   "display_name": "Python [conda env:base] *",
   "language": "python",
   "name": "conda-base-py"
  },
  "language_info": {
   "codemirror_mode": {
    "name": "ipython",
    "version": 3
   },
   "file_extension": ".py",
   "mimetype": "text/x-python",
   "name": "python",
   "nbconvert_exporter": "python",
   "pygments_lexer": "ipython3",
   "version": "3.12.7"
  }
 },
 "nbformat": 4,
 "nbformat_minor": 5
}
