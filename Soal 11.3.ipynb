{
 "cells": [
  {
   "cell_type": "code",
   "execution_count": 1,
   "id": "8adbcbe7-13c1-433f-8de1-26a02d5ca102",
   "metadata": {},
   "outputs": [
    {
     "name": "stdout",
     "output_type": "stream",
     "text": [
      "{'stephen.marquard@uct.ac.za': 4, 'gopal.ramasammycook@gmail.com': 2, 'louis@media.berkeley.edu': 2, 'antranig@caret.cam.ac.uk': 1, 'david.horwitz@uct.ac.za': 1, 'ray@media.berkeley.edu': 1, 'wagnermr@iupui.edu': 1}\n"
     ]
    }
   ],
   "source": [
    "counts = {}\n",
    "with open(\"mbox-short.txt\") as f:\n",
    "    for line in f:\n",
    "        line = line.rstrip()                \n",
    "        if not line.startswith(\"From \"): \n",
    "            continue\n",
    "        words = line.split()           \n",
    "        email = words[1]                 \n",
    "        counts[email] = counts.get(email, 0) + 1 \n",
    "\n",
    "print(counts)"
   ]
  },
  {
   "cell_type": "code",
   "execution_count": null,
   "id": "073cf15a-164c-4f49-a29c-b0147072475f",
   "metadata": {},
   "outputs": [],
   "source": []
  }
 ],
 "metadata": {
  "kernelspec": {
   "display_name": "Python [conda env:base] *",
   "language": "python",
   "name": "conda-base-py"
  },
  "language_info": {
   "codemirror_mode": {
    "name": "ipython",
    "version": 3
   },
   "file_extension": ".py",
   "mimetype": "text/x-python",
   "name": "python",
   "nbconvert_exporter": "python",
   "pygments_lexer": "ipython3",
   "version": "3.12.7"
  }
 },
 "nbformat": 4,
 "nbformat_minor": 5
}
