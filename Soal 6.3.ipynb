{
 "cells": [
  {
   "cell_type": "code",
   "execution_count": 3,
   "id": "7ea62d2f-eeae-403b-a54a-3dbd3684eee7",
   "metadata": {},
   "outputs": [
    {
     "name": "stdin",
     "output_type": "stream",
     "text": [
      "Masukkan jumlah mata kuliah:  8\n",
      "Masukkan nilai untuk mata kuliah 1 (A/B/C/D):  A\n",
      "Masukkan nilai untuk mata kuliah 2 (A/B/C/D):  B\n",
      "Masukkan nilai untuk mata kuliah 3 (A/B/C/D):  C\n",
      "Masukkan nilai untuk mata kuliah 4 (A/B/C/D):  D\n",
      "Masukkan nilai untuk mata kuliah 5 (A/B/C/D):  D\n",
      "Masukkan nilai untuk mata kuliah 6 (A/B/C/D):  C\n",
      "Masukkan nilai untuk mata kuliah 7 (A/B/C/D):  B\n",
      "Masukkan nilai untuk mata kuliah 8 (A/B/C/D):  A\n"
     ]
    },
    {
     "name": "stdout",
     "output_type": "stream",
     "text": [
      "Indeks Prestasi Semester (IPS) Anda: 2.50\n"
     ]
    }
   ],
   "source": [
    "def hitung_ips():\n",
    "    bobot_nilai = {'A': 4, 'B': 3, 'C': 2, 'D': 1}\n",
    "    sks_per_mk = 3 \n",
    "\n",
    "    jumlah_mk = int(input(\"Masukkan jumlah mata kuliah: \"))\n",
    "    total_bobot = 0\n",
    "    total_sks = jumlah_mk * sks_per_mk  \n",
    "\n",
    "    for i in range(jumlah_mk):\n",
    "        nilai = input(f\"Masukkan nilai untuk mata kuliah {i+1} (A/B/C/D): \").upper()\n",
    "        if nilai in bobot_nilai:\n",
    "            total_bobot += bobot_nilai[nilai] * sks_per_mk\n",
    "        else:\n",
    "            print(\"Nilai tidak valid! Harap masukkan A, B, C, atau D.\")\n",
    "            return\n",
    "\n",
    "    ips = total_bobot / total_sks\n",
    "    print(f\"Indeks Prestasi Semester (IPS) Anda: {ips:.2f}\")\n",
    "\n",
    "# Contoh penggunaan\n",
    "hitung_ips()"
   ]
  },
  {
   "cell_type": "code",
   "execution_count": null,
   "id": "eadf1c64-096a-4d8a-a486-fda4da9ca0f2",
   "metadata": {},
   "outputs": [],
   "source": []
  }
 ],
 "metadata": {
  "kernelspec": {
   "display_name": "Python [conda env:base] *",
   "language": "python",
   "name": "conda-base-py"
  },
  "language_info": {
   "codemirror_mode": {
    "name": "ipython",
    "version": 3
   },
   "file_extension": ".py",
   "mimetype": "text/x-python",
   "name": "python",
   "nbconvert_exporter": "python",
   "pygments_lexer": "ipython3",
   "version": "3.12.7"
  }
 },
 "nbformat": 4,
 "nbformat_minor": 5
}
