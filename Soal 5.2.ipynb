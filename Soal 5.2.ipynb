{
 "cells": [
  {
   "cell_type": "code",
   "execution_count": 3,
   "id": "15c9eb73-11b2-429a-9964-95707f71206b",
   "metadata": {},
   "outputs": [
    {
     "name": "stdout",
     "output_type": "stream",
     "text": [
      "True\n",
      "True\n",
      "False\n",
      "True\n",
      "False\n"
     ]
    }
   ],
   "source": [
    "def cek_digit_belakang(a, b, c):\n",
    "    last_a = a % 10\n",
    "    last_b = b % 10\n",
    "    last_c = c % 10\n",
    "\n",
    "    if last_a == last_b or last_a == last_c or last_b == last_c:\n",
    "        return True\n",
    "    return False\n",
    "\n",
    "# Contoh penggunaan\n",
    "print(cek_digit_belakang(30, 20, 18))  # True\n",
    "print(cek_digit_belakang(145, 5, 100)) # True\n",
    "print(cek_digit_belakang(71, 187, 18)) # False\n",
    "print(cek_digit_belakang(1024, 14, 94)) # True\n",
    "print(cek_digit_belakang(53, 8900, 658)) # False"
   ]
  }
 ],
 "metadata": {
  "kernelspec": {
   "display_name": "Python [conda env:base] *",
   "language": "python",
   "name": "conda-base-py"
  },
  "language_info": {
   "codemirror_mode": {
    "name": "ipython",
    "version": 3
   },
   "file_extension": ".py",
   "mimetype": "text/x-python",
   "name": "python",
   "nbconvert_exporter": "python",
   "pygments_lexer": "ipython3",
   "version": "3.12.7"
  }
 },
 "nbformat": 4,
 "nbformat_minor": 5
}
