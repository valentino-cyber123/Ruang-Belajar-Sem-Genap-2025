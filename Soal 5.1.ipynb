{
 "cells": [
  {
   "cell_type": "code",
   "execution_count": 6,
   "id": "70844a81-4976-498b-8a5f-d11a44b798bc",
   "metadata": {},
   "outputs": [
    {
     "name": "stdout",
     "output_type": "stream",
     "text": [
      "True\n",
      "False\n",
      "True\n",
      "True\n"
     ]
    }
   ],
   "source": [
    "def cek_angka(a, b, c):\n",
    "    if a == b or b == c or a == c:\n",
    "        return False\n",
    "    if a + b == c or a + c == b or b + c == a:\n",
    "        return True\n",
    "    \n",
    "    return False\n",
    "\n",
    "# Contoh penggunaan\n",
    "print(cek_angka(3, 5, 8))  # True (karena 3 + 5 = 8 dan semua berbeda)\n",
    "print(cek_angka(2, 2, 4))  # False (karena ada angka yang sama)\n",
    "print(cek_angka(1, 2, 3))  # True (karena 1 + 2 = 3 dan semua berbeda)\n",
    "print(cek_angka(4, 6, 10)) # True (karena 4 + 6 = 10 dan semua berbeda)"
   ]
  },
  {
   "cell_type": "code",
   "execution_count": null,
   "id": "b681ad3f-36ee-43e4-8412-7db5c22873ad",
   "metadata": {},
   "outputs": [],
   "source": []
  }
 ],
 "metadata": {
  "kernelspec": {
   "display_name": "Python [conda env:base] *",
   "language": "python",
   "name": "conda-base-py"
  },
  "language_info": {
   "codemirror_mode": {
    "name": "ipython",
    "version": 3
   },
   "file_extension": ".py",
   "mimetype": "text/x-python",
   "name": "python",
   "nbconvert_exporter": "python",
   "pygments_lexer": "ipython3",
   "version": "3.12.7"
  }
 },
 "nbformat": 4,
 "nbformat_minor": 5
}
