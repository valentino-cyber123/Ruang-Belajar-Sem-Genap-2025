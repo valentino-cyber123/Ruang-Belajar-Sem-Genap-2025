{
 "cells": [
  {
   "cell_type": "code",
   "execution_count": 3,
   "id": "a79bd7cd-fba4-4efd-9462-80786d61dff2",
   "metadata": {},
   "outputs": [
    {
     "name": "stdin",
     "output_type": "stream",
     "text": [
      "Masukkan kata pertama:  atma\n",
      "Masukkan kata kedua:  tama\n"
     ]
    },
    {
     "name": "stdout",
     "output_type": "stream",
     "text": [
      "'atma' dan 'tama' adalah anagram!\n"
     ]
    }
   ],
   "source": [
    "def cek_anagram(kata1, kata2):\n",
    "    \n",
    "    kata1 = kata1.replace(\" \", \"\").lower()\n",
    "    kata2 = kata2.replace(\" \", \"\").lower()\n",
    "\n",
    "    if len(kata1) != len(kata2):\n",
    "        return False\n",
    "\n",
    "    return sorted(kata1) == sorted(kata2)\n",
    "\n",
    "kata_pertama = input(\"Masukkan kata pertama: \")\n",
    "kata_kedua = input(\"Masukkan kata kedua: \")\n",
    "\n",
    "if cek_anagram(kata_pertama, kata_kedua):\n",
    "    print(f\"'{kata_pertama}' dan '{kata_kedua}' adalah anagram!\")\n",
    "else:\n",
    "    print(f\"'{kata_pertama}' dan '{kata_kedua}' bukan anagram.\")"
   ]
  },
  {
   "cell_type": "code",
   "execution_count": null,
   "id": "739a290b-902b-4f1a-a8bd-36f668631b32",
   "metadata": {},
   "outputs": [],
   "source": []
  }
 ],
 "metadata": {
  "kernelspec": {
   "display_name": "Python [conda env:base] *",
   "language": "python",
   "name": "conda-base-py"
  },
  "language_info": {
   "codemirror_mode": {
    "name": "ipython",
    "version": 3
   },
   "file_extension": ".py",
   "mimetype": "text/x-python",
   "name": "python",
   "nbconvert_exporter": "python",
   "pygments_lexer": "ipython3",
   "version": "3.12.7"
  }
 },
 "nbformat": 4,
 "nbformat_minor": 5
}
