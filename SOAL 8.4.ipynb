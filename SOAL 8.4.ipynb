{
 "cells": [
  {
   "cell_type": "code",
   "execution_count": 1,
   "id": "fc00698f-127d-402b-bbff-51813d233ec6",
   "metadata": {},
   "outputs": [
    {
     "name": "stdin",
     "output_type": "stream",
     "text": [
      "Masukkan kalimat:  red snakes and a black frog in the pool\n"
     ]
    },
    {
     "name": "stdout",
     "output_type": "stream",
     "text": [
      "Kata terpendek: a\n",
      "Kata terpanjang: snakes\n"
     ]
    }
   ],
   "source": [
    "def kata_terpendek_terpanjang(kalimat):\n",
    "    \n",
    "    for tanda in ['.', ',', '!', '?']:\n",
    "        kalimat = kalimat.replace(tanda, '')\n",
    "\n",
    "    daftar_kata = kalimat.split()\n",
    "\n",
    "    kata_terpendek = min(daftar_kata, key=len)\n",
    "    kata_terpanjang = max(daftar_kata, key=len)\n",
    "\n",
    "    return kata_terpendek, kata_terpanjang\n",
    "\n",
    "kalimat = input(\"Masukkan kalimat: \")\n",
    "terpendek, terpanjang = kata_terpendek_terpanjang(kalimat)\n",
    "\n",
    "print(f\"Kata terpendek: {terpendek}\")\n",
    "print(f\"Kata terpanjang: {terpanjang}\")"
   ]
  },
  {
   "cell_type": "code",
   "execution_count": null,
   "id": "cf71d40f-d573-4330-b2e2-568cef5013b5",
   "metadata": {},
   "outputs": [],
   "source": []
  }
 ],
 "metadata": {
  "kernelspec": {
   "display_name": "Python [conda env:base] *",
   "language": "python",
   "name": "conda-base-py"
  },
  "language_info": {
   "codemirror_mode": {
    "name": "ipython",
    "version": 3
   },
   "file_extension": ".py",
   "mimetype": "text/x-python",
   "name": "python",
   "nbconvert_exporter": "python",
   "pygments_lexer": "ipython3",
   "version": "3.12.7"
  }
 },
 "nbformat": 4,
 "nbformat_minor": 5
}
