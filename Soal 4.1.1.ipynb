{
 "cells": [
  {
   "cell_type": "code",
   "execution_count": 17,
   "id": "33c5ae67-3ca1-44aa-90cb-a9e6660e483d",
   "metadata": {},
   "outputs": [
    {
     "name": "stdin",
     "output_type": "stream",
     "text": [
      "Masukkan suhu tubuh:  36\n"
     ]
    },
    {
     "name": "stdout",
     "output_type": "stream",
     "text": [
      "Anda tidak Demam\n"
     ]
    }
   ],
   "source": [
    "try:\n",
    "    suhutubuh = float(input(\"Masukkan suhu tubuh: \"))\n",
    "\n",
    "    def pengukuran(suhu):\n",
    "        if suhu >= 38:\n",
    "            return \"Anda Demam\"\n",
    "        else:\n",
    "            return \"Anda tidak Demam\"\n",
    "\n",
    "    if suhutubuh < 35 or suhutubuh > 42:\n",
    "        print(\"Suhu tubuh normal manusia 35-42°C. Jika di luar rentang ini, perlu penanganan lebih lanjut.\")\n",
    "    else:\n",
    "        x = pengukuran(suhutubuh)\n",
    "        print(x)\n",
    "\n",
    "except ValueError:\n",
    "    print(\"Input tidak valid. Harap masukkan angka yang valid.\")\n"
   ]
  },
  {
   "cell_type": "code",
   "execution_count": null,
   "id": "2f81d7ab-2920-42c4-99f1-29c8a4959eac",
   "metadata": {},
   "outputs": [],
   "source": []
  }
 ],
 "metadata": {
  "kernelspec": {
   "display_name": "Python [conda env:base] *",
   "language": "python",
   "name": "conda-base-py"
  },
  "language_info": {
   "codemirror_mode": {
    "name": "ipython",
    "version": 3
   },
   "file_extension": ".py",
   "mimetype": "text/x-python",
   "name": "python",
   "nbconvert_exporter": "python",
   "pygments_lexer": "ipython3",
   "version": "3.12.7"
  }
 },
 "nbformat": 4,
 "nbformat_minor": 5
}
