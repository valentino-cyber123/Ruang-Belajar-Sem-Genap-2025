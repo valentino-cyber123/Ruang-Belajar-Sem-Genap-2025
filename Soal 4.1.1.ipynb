{
 "cells": [
  {
   "cell_type": "code",
   "execution_count": 1,
   "id": "550a1ee7-f1d6-4ab0-ad2a-5a769a14913b",
   "metadata": {},
   "outputs": [
    {
     "name": "stdout",
     "output_type": "stream",
     "text": [
      "True\n",
      "False\n",
      "True\n"
     ]
    }
   ],
   "source": [
    "pembelian = 100000\n",
    "print(pembelian >= 100000)\n",
    "\n",
    "pembelian = 45000\n",
    "print(pembelian >= 100000)\n",
    "\n",
    "pembelian = 100000\n",
    "print(pembelian >= 100000)"
   ]
  },
  {
   "cell_type": "code",
   "execution_count": null,
   "id": "bc4aba1a-e2d3-4051-a383-c87fc85ee945",
   "metadata": {},
   "outputs": [],
   "source": []
  }
 ],
 "metadata": {
  "kernelspec": {
   "display_name": "Python [conda env:base] *",
   "language": "python",
   "name": "conda-base-py"
  },
  "language_info": {
   "codemirror_mode": {
    "name": "ipython",
    "version": 3
   },
   "file_extension": ".py",
   "mimetype": "text/x-python",
   "name": "python",
   "nbconvert_exporter": "python",
   "pygments_lexer": "ipython3",
   "version": "3.12.7"
  }
 },
 "nbformat": 4,
 "nbformat_minor": 5
}
