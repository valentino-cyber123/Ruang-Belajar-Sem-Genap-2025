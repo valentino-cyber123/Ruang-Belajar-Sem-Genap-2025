{
 "cells": [
  {
   "cell_type": "code",
   "execution_count": 1,
   "id": "e323763d-fb7e-43c8-b688-b04756e47f2b",
   "metadata": {},
   "outputs": [
    {
     "name": "stdout",
     "output_type": "stream",
     "text": [
      "{'red': '#FF0000', 'green': '#008000', 'blue': '#0000FF'}\n"
     ]
    }
   ],
   "source": [
    "Lista = ['red', 'green', 'blue']\n",
    "Listb = ['#FF0000', '#008000', '#0000FF']\n",
    "\n",
    "hasil_dict = dict(zip(Lista, Listb))\n",
    "\n",
    "print(hasil_dict)\n"
   ]
  },
  {
   "cell_type": "code",
   "execution_count": null,
   "id": "cd5db536-746f-4241-b6cd-8ac591243587",
   "metadata": {},
   "outputs": [],
   "source": []
  }
 ],
 "metadata": {
  "kernelspec": {
   "display_name": "Python [conda env:base] *",
   "language": "python",
   "name": "conda-base-py"
  },
  "language_info": {
   "codemirror_mode": {
    "name": "ipython",
    "version": 3
   },
   "file_extension": ".py",
   "mimetype": "text/x-python",
   "name": "python",
   "nbconvert_exporter": "python",
   "pygments_lexer": "ipython3",
   "version": "3.12.7"
  }
 },
 "nbformat": 4,
 "nbformat_minor": 5
}
