{
 "cells": [
  {
   "cell_type": "code",
   "execution_count": 10,
   "id": "7f065047-301a-427c-8439-a792158dc595",
   "metadata": {},
   "outputs": [
    {
     "name": "stdout",
     "output_type": "stream",
     "text": [
      "waktu yang diperlukan adalah:  7 tahun\n"
     ]
    }
   ],
   "source": [
    "import math\n",
    "Deposit_awal = 200000000\n",
    "Deposit_target = 400000000\n",
    "Bunga_deposit_tahunan = 10/100\n",
    "\n",
    "Butuh_waktu = math.log(Deposit_target / Deposit_awal) / (math.log(1 + Bunga_deposit_tahunan))\n",
    "print (\"waktu yang diperlukan adalah: \", (round(Butuh_waktu)), \"tahun\")"
   ]
  }
 ],
 "metadata": {
  "kernelspec": {
   "display_name": "Python [conda env:base] *",
   "language": "python",
   "name": "conda-base-py"
  },
  "language_info": {
   "codemirror_mode": {
    "name": "ipython",
    "version": 3
   },
   "file_extension": ".py",
   "mimetype": "text/x-python",
   "name": "python",
   "nbconvert_exporter": "python",
   "pygments_lexer": "ipython3",
   "version": "3.12.7"
  }
 },
 "nbformat": 4,
 "nbformat_minor": 5
}
