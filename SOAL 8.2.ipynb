{
 "cells": [
  {
   "cell_type": "code",
   "execution_count": 5,
   "id": "75d4c9c3-ecf9-443a-a9ec-496e1593ef37",
   "metadata": {},
   "outputs": [
    {
     "name": "stdin",
     "output_type": "stream",
     "text": [
      "Masukkan kata yang ingin dihitung:  makan\n"
     ]
    },
    {
     "name": "stdout",
     "output_type": "stream",
     "text": [
      "Kata 'makan' ada 3 buah.\n"
     ]
    }
   ],
   "source": [
    "from collections import Counter\n",
    "import re\n",
    "\n",
    "def hitung_kata(kalimat, kata_dicari):\n",
    "    \n",
    "    kalimat = kalimat.lower()\n",
    "    kata_dicari = kata_dicari.lower()\n",
    "\n",
    "    kalimat = re.sub(r'[^\\w\\s]', '', kalimat)\n",
    "\n",
    "    daftar_kata = kalimat.split()\n",
    "\n",
    "    frekuensi = Counter(daftar_kata)\n",
    "\n",
    "    jumlah = frekuensi.get(kata_dicari, 0)\n",
    "\n",
    "    return jumlah\n",
    "\n",
    "kalimat = \"Saya mau makan. Makan itu wajib. Mau siang atau malam saya wajib makan\"\n",
    "kata_dicari = input(\"Masukkan kata yang ingin dihitung: \")\n",
    "\n",
    "jumlah = hitung_kata(kalimat, kata_dicari)\n",
    "\n",
    "print(f\"Kata '{kata_dicari}' ada {jumlah} buah.\")\n"
   ]
  },
  {
   "cell_type": "code",
   "execution_count": null,
   "id": "cdf98b5b-5b7a-4cb1-a6fa-7cf17c3fe8b0",
   "metadata": {},
   "outputs": [],
   "source": []
  }
 ],
 "metadata": {
  "kernelspec": {
   "display_name": "Python [conda env:base] *",
   "language": "python",
   "name": "conda-base-py"
  },
  "language_info": {
   "codemirror_mode": {
    "name": "ipython",
    "version": 3
   },
   "file_extension": ".py",
   "mimetype": "text/x-python",
   "name": "python",
   "nbconvert_exporter": "python",
   "pygments_lexer": "ipython3",
   "version": "3.12.7"
  }
 },
 "nbformat": 4,
 "nbformat_minor": 5
}
