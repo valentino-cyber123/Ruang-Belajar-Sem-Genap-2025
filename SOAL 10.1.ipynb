{
 "cells": [
  {
   "cell_type": "code",
   "execution_count": 7,
   "id": "ceab0884-0042-4bab-b440-74be14dabf8e",
   "metadata": {},
   "outputs": [
    {
     "name": "stdout",
     "output_type": "stream",
     "text": [
      "Tiga bilangan terbaik: [21, 12, 9]\n"
     ]
    }
   ],
   "source": [
    "def tiga_terbaik(daftar_angka):\n",
    "    unik_terurut = sorted(set(data), reverse=True)\n",
    "    return unik_terurut[:3]\n",
    "\n",
    "data = [5, 12, 3, 21, 7, 21, 9]\n",
    "hasil = tiga_terbaik(data)\n",
    "print(\"Tiga bilangan terbaik:\", hasil)"
   ]
  },
  {
   "cell_type": "code",
   "execution_count": null,
   "id": "49a3b8e9-707d-4a4a-ac04-82b17a95d7c2",
   "metadata": {},
   "outputs": [],
   "source": []
  }
 ],
 "metadata": {
  "kernelspec": {
   "display_name": "Python [conda env:base] *",
   "language": "python",
   "name": "conda-base-py"
  },
  "language_info": {
   "codemirror_mode": {
    "name": "ipython",
    "version": 3
   },
   "file_extension": ".py",
   "mimetype": "text/x-python",
   "name": "python",
   "nbconvert_exporter": "python",
   "pygments_lexer": "ipython3",
   "version": "3.12.7"
  }
 },
 "nbformat": 4,
 "nbformat_minor": 5
}
