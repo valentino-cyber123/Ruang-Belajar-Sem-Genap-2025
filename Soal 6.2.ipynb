{
 "cells": [
  {
   "cell_type": "code",
   "execution_count": 3,
   "id": "a1961fd6-fa21-456b-9c9b-7b28454c90a0",
   "metadata": {},
   "outputs": [
    {
     "name": "stdout",
     "output_type": "stream",
     "text": [
      "[11, 13, 15, 17, 19, 21, 23, 25, 27, 29]\n",
      "[97, 95, 93, 91, 89, 87, 85, 83]\n"
     ]
    }
   ],
   "source": [
    "def ganjil(bawah, atas):\n",
    "    if bawah < atas:\n",
    "        return [i for i in range(bawah + 1, atas, 2) if i % 2 == 1]\n",
    "    else:\n",
    "        return [i for i in range(bawah, atas - 1, -2) if i % 2 == 1]\n",
    "\n",
    "# Contoh penggunaan\n",
    "print(ganjil(10, 30))  \n",
    "print(ganjil(97, 82)) "
   ]
  },
  {
   "cell_type": "code",
   "execution_count": null,
   "id": "e835f67a-53fe-43c6-946d-417ba2850c63",
   "metadata": {},
   "outputs": [],
   "source": []
  }
 ],
 "metadata": {
  "kernelspec": {
   "display_name": "Python [conda env:base] *",
   "language": "python",
   "name": "conda-base-py"
  },
  "language_info": {
   "codemirror_mode": {
    "name": "ipython",
    "version": 3
   },
   "file_extension": ".py",
   "mimetype": "text/x-python",
   "name": "python",
   "nbconvert_exporter": "python",
   "pygments_lexer": "ipython3",
   "version": "3.12.7"
  }
 },
 "nbformat": 4,
 "nbformat_minor": 5
}
