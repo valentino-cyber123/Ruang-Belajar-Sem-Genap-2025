{
 "cells": [
  {
   "cell_type": "code",
   "execution_count": 1,
   "id": "2f1d74c6-68a3-4346-8ae9-3084c4a99ba0",
   "metadata": {},
   "outputs": [
    {
     "name": "stdout",
     "output_type": "stream",
     "text": [
      "Profit dari pembelian awal:\n",
      "Rupiah: Rp 875000\n",
      "Persen: 5.38 %\n",
      "\n",
      "Profit kenaikan harga dan penambahan emas:\n",
      "Rupiah: Rp 2075000\n",
      "Persen 7.82 %\n"
     ]
    }
   ],
   "source": [
    "Jumlah_emas = 25\n",
    "Harga_emas_awal = 650000\n",
    "Harga_emas_saat_ini = 685000\n",
    "\n",
    "Invest_awal = Harga_emas_awal * Jumlah_emas\n",
    "Nilai_emas_saat_ini = Harga_emas_saat_ini * Jumlah_emas\n",
    "Nilai_profit_awal = Nilai_emas_saat_ini - Invest_awal\n",
    "Persen_nilai_awal = (Nilai_profit_awal / Invest_awal) * 100\n",
    "\n",
    "print(\"Profit dari pembelian awal:\")\n",
    "print(\"Rupiah: Rp\", Nilai_profit_awal)\n",
    "print(\"Persen:\", round(Persen_nilai_awal, 2), \"%\")\n",
    "\n",
    "Tambahan_emas = 15\n",
    "Harga_tambah_emas = Harga_emas_saat_ini\n",
    "Invest_tambahan = Harga_tambah_emas * Tambahan_emas\n",
    "\n",
    "Total_emas = Jumlah_emas + Tambahan_emas\n",
    "Invest_total = Invest_awal + Invest_tambahan\n",
    "\n",
    "Harga_emas_akhir = 715000\n",
    "Nilai_emas_ahkir = Total_emas * Harga_emas_akhir\n",
    "\n",
    "Nilai_profit_total = Nilai_emas_ahkir - Invest_total\n",
    "Persen_nilai_total = (Nilai_profit_total / Invest_total) * 100\n",
    "\n",
    "print(\"\\nProfit kenaikan harga dan penambahan emas:\")\n",
    "print(\"Rupiah: Rp\", Nilai_profit_total)\n",
    "print(\"Persen\", round(Persen_nilai_total, 2), \"%\")"
   ]
  }
 ],
 "metadata": {
  "kernelspec": {
   "display_name": "Python [conda env:base] *",
   "language": "python",
   "name": "conda-base-py"
  },
  "language_info": {
   "codemirror_mode": {
    "name": "ipython",
    "version": 3
   },
   "file_extension": ".py",
   "mimetype": "text/x-python",
   "name": "python",
   "nbconvert_exporter": "python",
   "pygments_lexer": "ipython3",
   "version": "3.12.7"
  }
 },
 "nbformat": 4,
 "nbformat_minor": 5
}
