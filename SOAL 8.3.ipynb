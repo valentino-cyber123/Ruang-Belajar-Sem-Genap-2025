{
 "cells": [
  {
   "cell_type": "code",
   "execution_count": 1,
   "id": "9129cc84-4e6c-4b68-9a1f-935c798cf17c",
   "metadata": {},
   "outputs": [
    {
     "name": "stdin",
     "output_type": "stream",
     "text": [
      "Masukkan kalimat:  saya tidak suka memancing ikan\n"
     ]
    },
    {
     "name": "stdout",
     "output_type": "stream",
     "text": [
      "Hasil setelah dihapus spasi berlebih:\n",
      "'saya tidak suka memancing ikan'\n"
     ]
    }
   ],
   "source": [
    "import re\n",
    "\n",
    "def hapus_spasi_berlebih(teks):\n",
    "\n",
    "    teks_bersih = re.sub(r'\\s+', ' ', teks)\n",
    "    \n",
    "    teks_bersih = teks_bersih.strip()\n",
    "    return teks_bersih\n",
    "\n",
    "kalimat = input(\"Masukkan kalimat: \")\n",
    "kalimat_bersih = hapus_spasi_berlebih(kalimat)\n",
    "\n",
    "print(\"Hasil setelah dihapus spasi berlebih:\")\n",
    "print(f\"'{kalimat_bersih}'\")"
   ]
  },
  {
   "cell_type": "code",
   "execution_count": null,
   "id": "56c66abc-a513-4a64-b004-308eecafbd21",
   "metadata": {},
   "outputs": [],
   "source": []
  }
 ],
 "metadata": {
  "kernelspec": {
   "display_name": "Python [conda env:base] *",
   "language": "python",
   "name": "conda-base-py"
  },
  "language_info": {
   "codemirror_mode": {
    "name": "ipython",
    "version": 3
   },
   "file_extension": ".py",
   "mimetype": "text/x-python",
   "name": "python",
   "nbconvert_exporter": "python",
   "pygments_lexer": "ipython3",
   "version": "3.12.7"
  }
 },
 "nbformat": 4,
 "nbformat_minor": 5
}
