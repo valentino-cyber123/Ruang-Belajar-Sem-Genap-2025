{
 "cells": [
  {
   "cell_type": "code",
   "execution_count": 1,
   "id": "f303aed4-4a38-4a14-b7eb-b07a0d3629b2",
   "metadata": {},
   "outputs": [
    {
     "name": "stdin",
     "output_type": "stream",
     "text": [
      "Masukkan nilai n:  6\n"
     ]
    },
    {
     "name": "stdout",
     "output_type": "stream",
     "text": [
      "720 6 5 4 3 2 1\n",
      "120 5 4 3 2 1\n",
      "24 4 3 2 1\n",
      "6 3 2 1\n",
      "2 2 1\n",
      "1 1\n"
     ]
    }
   ],
   "source": [
    "import math\n",
    "\n",
    "n = int(input(\"Masukkan nilai n: \"))\n",
    "\n",
    "for i in range(n, 0, -1):\n",
    "    faktorial = math.factorial(i)  \n",
    "    deret = \" \".join(map(str, range(i, 0, -1)))  \n",
    "    print(f\"{faktorial} {deret}\")  \n"
   ]
  },
  {
   "cell_type": "code",
   "execution_count": null,
   "id": "1bb6af8f-d723-4294-8186-382a84faea9e",
   "metadata": {},
   "outputs": [],
   "source": []
  }
 ],
 "metadata": {
  "kernelspec": {
   "display_name": "Python [conda env:base] *",
   "language": "python",
   "name": "conda-base-py"
  },
  "language_info": {
   "codemirror_mode": {
    "name": "ipython",
    "version": 3
   },
   "file_extension": ".py",
   "mimetype": "text/x-python",
   "name": "python",
   "nbconvert_exporter": "python",
   "pygments_lexer": "ipython3",
   "version": "3.12.7"
  }
 },
 "nbformat": 4,
 "nbformat_minor": 5
}
