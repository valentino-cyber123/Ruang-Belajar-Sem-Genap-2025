{
 "cells": [
  {
   "cell_type": "code",
   "execution_count": 1,
   "id": "3c61b08a-1d47-4a97-a0f0-647c8fc32753",
   "metadata": {},
   "outputs": [
    {
     "name": "stdout",
     "output_type": "stream",
     "text": [
      "anton@mail.com username: anton , password: mI9ZhiYT\n",
      "budi@gmail.co.id username: budi , password: 0BmUJfUp\n",
      "slamet@getnada.com username: slamet , password: udhKVsQi\n",
      "matahari@tokopedia.com username: matahari , password: 0s31FqDs\n"
     ]
    }
   ],
   "source": [
    "import re\n",
    "import random\n",
    "import string\n",
    "\n",
    "def generate_password(length=8):\n",
    "    all_characters = string.ascii_letters + string.digits\n",
    "    return ''.join(random.choice(all_characters) for _ in range(length))\n",
    "\n",
    "def ekstrak_email_dan_username(kalimat):\n",
    "    email_pattern = r'\\b[A-Za-z0-9._%+-]+@[A-Za-z0-9.-]+\\.[A-Za-z]{2,6}\\b'\n",
    "    email_list = re.findall(email_pattern, kalimat)\n",
    "\n",
    "    hasil = []\n",
    "\n",
    "    for email in email_list:\n",
    "        username = email.split('@')[0]\n",
    "        password = generate_password()\n",
    "        hasil.append(f\"{email} username: {username} , password: {password}\")\n",
    "\n",
    "    return hasil\n",
    "\n",
    "kalimat = \"\"\"\n",
    "Berikut adalah daftar email dan nama pengguna dari mailing list:\n",
    "anton@mail.com dimiliki oleh antonius\n",
    "budi@gmail.co.id dimiliki oleh budi anwari\n",
    "slamet@getnada.com dimiliki oleh slamet slumut\n",
    "matahari@tokopedia.com dimiliki oleh toko matahari\n",
    "\"\"\"\n",
    "\n",
    "email_hasil = ekstrak_email_dan_username(kalimat)\n",
    "\n",
    "for t in email_hasil:\n",
    "    print(t)"
   ]
  },
  {
   "cell_type": "code",
   "execution_count": null,
   "id": "80a5d131-1fbe-474c-a93c-1611c65f0e7c",
   "metadata": {},
   "outputs": [],
   "source": []
  }
 ],
 "metadata": {
  "kernelspec": {
   "display_name": "Python [conda env:base] *",
   "language": "python",
   "name": "conda-base-py"
  },
  "language_info": {
   "codemirror_mode": {
    "name": "ipython",
    "version": 3
   },
   "file_extension": ".py",
   "mimetype": "text/x-python",
   "name": "python",
   "nbconvert_exporter": "python",
   "pygments_lexer": "ipython3",
   "version": "3.12.7"
  }
 },
 "nbformat": 4,
 "nbformat_minor": 5
}
