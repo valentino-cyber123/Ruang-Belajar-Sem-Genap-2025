{
 "cells": [
  {
   "cell_type": "code",
   "execution_count": 7,
   "id": "73797abb-867f-44a9-8d27-c39794e96800",
   "metadata": {},
   "outputs": [
    {
     "name": "stdin",
     "output_type": "stream",
     "text": [
      "Masukkan sisi 1:  2\n",
      "Masukkan sisi 2:  2\n",
      "Masukkan sisi 3:  2\n"
     ]
    },
    {
     "name": "stdout",
     "output_type": "stream",
     "text": [
      "Segitiga sama sisi (3 sisi sama).\n"
     ]
    }
   ],
   "source": [
    "def check_triangle_sides():\n",
    "    try:\n",
    "        sisi1 = float(input(\"Masukkan sisi 1: \"))\n",
    "        sisi2 = float(input(\"Masukkan sisi 2: \"))\n",
    "        sisi3 = float(input(\"Masukkan sisi 3: \"))\n",
    "\n",
    "        if sisi1 <= 0 or sisi2 <= 0 or sisi3 <= 0:\n",
    "            print(\"Masukkan hanya bilangan positif.\")\n",
    "            return\n",
    "\n",
    "        # Mengecek apakah bisa membentuk segitiga\n",
    "        if sisi1 + sisi2 <= sisi3 or sisi1 + sisi3 <= sisi2 or sisi2 + sisi3 <= sisi1:\n",
    "            print(\"Tiga sisi ini tidak dapat membentuk segitiga.\")\n",
    "            return\n",
    "\n",
    "        if sisi1 == sisi2 == sisi3:\n",
    "            print(\"Segitiga sama sisi (3 sisi sama).\")\n",
    "        elif sisi1 == sisi2 or sisi1 == sisi3 or sisi2 == sisi3:\n",
    "            print(\"Segitiga sama kaki (2 sisi sama).\")\n",
    "        else:\n",
    "            print(\"Segitiga sembarang (tidak ada sisi yang sama).\")\n",
    "\n",
    "    except ValueError:\n",
    "        print(\"Input tidak valid. Harap masukkan angka.\")\n",
    "\n",
    "# Memanggil fungsi agar program berjalan\n",
    "check_triangle_sides()\n"
   ]
  },
  {
   "cell_type": "code",
   "execution_count": null,
   "id": "d4e27f9d-f663-47a2-b2fc-ec72d0481421",
   "metadata": {},
   "outputs": [],
   "source": []
  }
 ],
 "metadata": {
  "kernelspec": {
   "display_name": "Python [conda env:base] *",
   "language": "python",
   "name": "conda-base-py"
  },
  "language_info": {
   "codemirror_mode": {
    "name": "ipython",
    "version": 3
   },
   "file_extension": ".py",
   "mimetype": "text/x-python",
   "name": "python",
   "nbconvert_exporter": "python",
   "pygments_lexer": "ipython3",
   "version": "3.12.7"
  }
 },
 "nbformat": 4,
 "nbformat_minor": 5
}
