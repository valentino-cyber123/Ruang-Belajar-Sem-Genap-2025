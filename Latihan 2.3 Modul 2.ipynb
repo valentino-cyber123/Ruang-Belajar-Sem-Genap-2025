{
 "cells": [
  {
   "cell_type": "code",
   "execution_count": 11,
   "id": "f1a06662-dc97-47ee-aa57-214b1f706270",
   "metadata": {},
   "outputs": [
    {
     "name": "stdin",
     "output_type": "stream",
     "text": [
      "Silakan input upah per jam yang Anda harapkan:  100000\n",
      "Silakan input jumlah jam kerja dalam seminggu:  30\n"
     ]
    },
    {
     "name": "stdout",
     "output_type": "stream",
     "text": [
      "\n",
      "Hasil Perhitungan:\n",
      "1. Pendapatan Budi selama libur musim panas sebelum melakukan pembayaran pajak: Rp 15,000,000.00\n",
      "2. Pendapatan Budi selama libur musim panas setelah melakukan pembayaran pajak: Rp 12,900,000.00\n",
      "3. Jumlah uang yang akan Budi habiskan untuk membeli pakaian dan aksesoris: Rp 1,290,000.00\n",
      "4. Jumlah uang yang akan Budi habiskan untuk membeli alat tulis: Rp 129,000.00\n",
      "5. Jumlah uang yang akan Budi sedekahkan: Rp 2,870,250.00\n",
      "6. Jumlah uang yang akan diterima anak yatim: Rp 861,075.00\n",
      "7. Jumlah uang yang akan diterima kaum dhuafa: Rp 2,009,175.00\n"
     ]
    }
   ],
   "source": [
    "# Konstanta yang di ketahui\n",
    "Total_minggu = 5               # Libur total 5 minggu\n",
    "Total_pajak = 0.14             # 14% pajak \n",
    "Beli_baju_aksesoris = 0.10     # 10% baju dan aksesoris\n",
    "Beli_alat_tulis = 0.01         # 1% alat tulis\n",
    "Uang_sedekah = 0.25            # 25% sedekah\n",
    "Persentase_anak_yatim = 0.30   # 30% untuk anak yatim\n",
    "\n",
    "Income_per_jam = float(input(\"Silakan input upah per jam yang Anda harapkan: \"))\n",
    "Jam_kerja_per_minggu = float(input(\"Silakan input jumlah jam kerja dalam seminggu: \"))\n",
    "\n",
    "# 1. Income kotor sebelum pajak\n",
    "Income_kotor = Income_per_jam * Jam_kerja_per_minggu * Total_minggu\n",
    "\n",
    "# 2. Income pendapatan bersih setelah pajak\n",
    "Income_bersih = Income_kotor * (1 - Total_pajak)\n",
    "\n",
    "# 3. Uang belanja baju dan aksesoris\n",
    "Belanja_baju = Income_bersih * Beli_baju_aksesoris\n",
    "\n",
    "# 4. Uang belanja alat tulis\n",
    "Belanja_alat_tulis = Income_bersih * Beli_alat_tulis\n",
    "\n",
    "# 5. Sisa uang setelah belanja baju dan alat tulis\n",
    "Uang_sisa = Income_bersih - Belanja_baju - Belanja_alat_tulis\n",
    "\n",
    "# 6. Uang yang disedekahkan\n",
    "Uang_sedekah = Uang_sisa * Uang_sedekah\n",
    "\n",
    "# 7. Uang untuk anak yatim dan kaum dhuafa\n",
    "Bagi_anak_yatim = Uang_sedekah * Persentase_anak_yatim\n",
    "Bagi_kaum_dhuafa = Uang_sedekah - Bagi_anak_yatim\n",
    "\n",
    "# Output hasil perhitungan\n",
    "print(\"\\nHasil Perhitungan:\")\n",
    "print(f\"1. Pendapatan Budi selama libur musim panas sebelum melakukan pembayaran pajak: Rp {Income_kotor:,.2f}\")\n",
    "print(f\"2. Pendapatan Budi selama libur musim panas setelah melakukan pembayaran pajak: Rp {Income_bersih:,.2f}\")\n",
    "print(f\"3. Jumlah uang yang akan Budi habiskan untuk membeli pakaian dan aksesoris: Rp {Belanja_baju:,.2f}\")\n",
    "print(f\"4. Jumlah uang yang akan Budi habiskan untuk membeli alat tulis: Rp {Belanja_alat_tulis:,.2f}\")\n",
    "print(f\"5. Jumlah uang yang akan Budi sedekahkan: Rp {Uang_sedekah:,.2f}\")\n",
    "print(f\"6. Jumlah uang yang akan diterima anak yatim: Rp {Bagi_anak_yatim:,.2f}\")\n",
    "print(f\"7. Jumlah uang yang akan diterima kaum dhuafa: Rp {Bagi_kaum_dhuafa:,.2f}\")"
   ]
  },
  {
   "cell_type": "code",
   "execution_count": null,
   "id": "19df652c-e942-4463-8c5c-ab09f1ae8855",
   "metadata": {},
   "outputs": [],
   "source": []
  }
 ],
 "metadata": {
  "kernelspec": {
   "display_name": "Python [conda env:base] *",
   "language": "python",
   "name": "conda-base-py"
  },
  "language_info": {
   "codemirror_mode": {
    "name": "ipython",
    "version": 3
   },
   "file_extension": ".py",
   "mimetype": "text/x-python",
   "name": "python",
   "nbconvert_exporter": "python",
   "pygments_lexer": "ipython3",
   "version": "3.12.7"
  }
 },
 "nbformat": 4,
 "nbformat_minor": 5
}
