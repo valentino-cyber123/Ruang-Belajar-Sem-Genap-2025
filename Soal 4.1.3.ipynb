{
 "cells": [
  {
   "cell_type": "code",
   "execution_count": 1,
   "id": "fae0b91c-3d74-41e7-8547-9d9a5ba1b93a",
   "metadata": {},
   "outputs": [
    {
     "name": "stdin",
     "output_type": "stream",
     "text": [
      "Masukkan angka pertama:  1\n",
      "Masukkan angka kedua:  2\n",
      "Masukkan angka ketiga:  3\n"
     ]
    },
    {
     "name": "stdout",
     "output_type": "stream",
     "text": [
      "Angka terbesar adalah 3.\n"
     ]
    }
   ],
   "source": [
    "try:\n",
    "    satu = int(input(\"Masukkan angka pertama: \"))\n",
    "    dua = int(input(\"Masukkan angka kedua: \"))\n",
    "    tiga = int(input(\"Masukkan angka ketiga: \"))\n",
    "\n",
    "    def cari_terbesar(a, b, c):\n",
    "        angka_unik = set([a, b, c])  # Menghilangkan angka duplikat\n",
    "        \n",
    "        if len(angka_unik) == 1:  # Jika semua angka sama\n",
    "            return \"Semua angka memiliki nilai yang sama.\"\n",
    "        \n",
    "        terbesar = max(a, b, c)\n",
    "        \n",
    "        if len(angka_unik) == 2:  # Jika ada dua angka yang sama\n",
    "            return f\"Ada dua angka dengan nilai tertinggi, yaitu {sorted(angka_unik)[-2]}.\"\n",
    "        \n",
    "        return f\"Angka terbesar adalah {terbesar}.\"\n",
    "\n",
    "    print(cari_terbesar(satu, dua, tiga))\n",
    "\n",
    "except ValueError:\n",
    "    print(\"Masukan tidak valid! Pastikan Anda memasukkan bilangan bulat.\")\n"
   ]
  },
  {
   "cell_type": "code",
   "execution_count": null,
   "id": "a38da8ec-aee3-4a60-8deb-16121218b0c4",
   "metadata": {},
   "outputs": [],
   "source": []
  }
 ],
 "metadata": {
  "kernelspec": {
   "display_name": "Python [conda env:base] *",
   "language": "python",
   "name": "conda-base-py"
  },
  "language_info": {
   "codemirror_mode": {
    "name": "ipython",
    "version": 3
   },
   "file_extension": ".py",
   "mimetype": "text/x-python",
   "name": "python",
   "nbconvert_exporter": "python",
   "pygments_lexer": "ipython3",
   "version": "3.12.7"
  }
 },
 "nbformat": 4,
 "nbformat_minor": 5
}
