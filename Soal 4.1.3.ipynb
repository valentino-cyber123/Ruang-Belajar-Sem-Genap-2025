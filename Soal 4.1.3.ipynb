{
 "cells": [
  {
   "cell_type": "code",
   "execution_count": 7,
   "id": "c40a8187-6e9f-460a-815a-f92f28a346d1",
   "metadata": {},
   "outputs": [
    {
     "name": "stdin",
     "output_type": "stream",
     "text": [
      "Masukkan usia anda:  dua\n"
     ]
    },
    {
     "name": "stdout",
     "output_type": "stream",
     "text": [
      "Input tidak valid! Harap masukkan angka.\n"
     ]
    }
   ],
   "source": [
    "try:\n",
    "    usia_input = input(\"Masukkan usia anda: \")\n",
    "\n",
    "    # Coba konversi input ke integer\n",
    "    usia = int(usia_input)\n",
    "\n",
    "    if usia < 18:\n",
    "        print(\"Anda masih anak-anak.\")\n",
    "    elif usia < 60:\n",
    "        print(\"Anda adalah orang dewasa.\")\n",
    "    else:\n",
    "        print(\"Anda adalah lansia.\")\n",
    "\n",
    "except ValueError:\n",
    "    print(\"Input tidak valid! Harap masukkan angka.\")"
   ]
  },
  {
   "cell_type": "code",
   "execution_count": null,
   "id": "9adae4c4-cc08-418f-9f0d-af04036c6dae",
   "metadata": {},
   "outputs": [],
   "source": []
  }
 ],
 "metadata": {
  "kernelspec": {
   "display_name": "Python [conda env:base] *",
   "language": "python",
   "name": "conda-base-py"
  },
  "language_info": {
   "codemirror_mode": {
    "name": "ipython",
    "version": 3
   },
   "file_extension": ".py",
   "mimetype": "text/x-python",
   "name": "python",
   "nbconvert_exporter": "python",
   "pygments_lexer": "ipython3",
   "version": "3.12.7"
  }
 },
 "nbformat": 4,
 "nbformat_minor": 5
}
