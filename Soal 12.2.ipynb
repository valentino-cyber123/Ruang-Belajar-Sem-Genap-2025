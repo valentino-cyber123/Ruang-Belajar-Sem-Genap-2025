{
 "cells": [
  {
   "cell_type": "code",
   "execution_count": 12,
   "id": "ae377f98-1fc2-4697-9b56-bb28112f95cf",
   "metadata": {},
   "outputs": [
    {
     "name": "stdout",
     "output_type": "stream",
     "text": [
      "NIM    : 22064091\n",
      "NAMA   : Matahari Bhakti Nendya\n",
      "ALAMAT : Bantul, DI Yogyakarta\n",
      "\n",
      "NIM: ('2', '2', '0', '6', '4', '0', '9', '1')\n",
      "NAMA DEPAN: ('m', 'a', 't', 'a', 'h', 'a', 'r', 'i')\n",
      "NAMA TERBALIK: ('Nendya', 'Bhakti', 'Matahari')\n"
     ]
    }
   ],
   "source": [
    "data = ('Matahari Bhakti Nendya', '22064091', 'Bantul, DI Yogyakarta')\n",
    "\n",
    "print(\"NIM    :\", data[1])\n",
    "print(\"NAMA   :\", data[0])\n",
    "print(\"ALAMAT :\", data[2])\n",
    "print()\n",
    "\n",
    "nim = tuple(data[1])\n",
    "nama_depan = tuple(data[0].split()[0].lower())  \n",
    "nama_terbalik = tuple(reversed(data[0].split()))  \n",
    "\n",
    "print(\"NIM:\", nim)\n",
    "print(\"NAMA DEPAN:\", nama_depan)\n",
    "print(\"NAMA TERBALIK:\", nama_terbalik)"
   ]
  },
  {
   "cell_type": "code",
   "execution_count": null,
   "id": "a4a3e108-50bc-4110-b345-b331b0ee9085",
   "metadata": {},
   "outputs": [],
   "source": []
  }
 ],
 "metadata": {
  "kernelspec": {
   "display_name": "Python [conda env:base] *",
   "language": "python",
   "name": "conda-base-py"
  },
  "language_info": {
   "codemirror_mode": {
    "name": "ipython",
    "version": 3
   },
   "file_extension": ".py",
   "mimetype": "text/x-python",
   "name": "python",
   "nbconvert_exporter": "python",
   "pygments_lexer": "ipython3",
   "version": "3.12.7"
  }
 },
 "nbformat": 4,
 "nbformat_minor": 5
}
