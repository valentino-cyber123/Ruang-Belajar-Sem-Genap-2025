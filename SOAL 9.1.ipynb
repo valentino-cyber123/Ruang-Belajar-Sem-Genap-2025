{
 "cells": [
  {
   "cell_type": "code",
   "execution_count": 4,
   "id": "f37f280e-e4a1-4a55-b2ba-968560cd08fa",
   "metadata": {},
   "outputs": [
    {
     "name": "stdout",
     "output_type": "stream",
     "text": [
      "Baris 2 BERBEDA:\n",
      "  file1.txt: baris dua\n",
      "  file2.txt: baris dua BERBEDA\n",
      "\n",
      "Baris 4 BERBEDA:\n",
      "  file1.txt: baris empat\n",
      "  file2.txt: baris tambahan\n",
      "\n"
     ]
    }
   ],
   "source": [
    "with open(\"file1.txt\", \"w\", encoding=\"utf-8\") as f1:\n",
    "    f1.write(\"baris satu\\nbaris dua\\nbaris tiga\\nbaris empat\")\n",
    "\n",
    "with open(\"file2.txt\", \"w\", encoding=\"utf-8\") as f2:\n",
    "    f2.write(\"baris satu\\nbaris dua BERBEDA\\nbaris tiga\\nbaris tambahan\")\n",
    "\n",
    "def bandingkan_file(file1_path, file2_path):\n",
    "    with open(file1_path, 'r', encoding='utf-8') as file1, open(file2_path, 'r', encoding='utf-8') as file2:\n",
    "        baris1 = file1.readlines()\n",
    "        baris2 = file2.readlines()\n",
    "\n",
    "    max_baris = max(len(baris1), len(baris2))\n",
    "    ada_perbedaan = False\n",
    "\n",
    "    for i in range(max_baris):\n",
    "        isi1 = baris1[i].strip() if i < len(baris1) else \"[TIDAK ADA]\"\n",
    "        isi2 = baris2[i].strip() if i < len(baris2) else \"[TIDAK ADA]\"\n",
    "\n",
    "        if isi1 != isi2:\n",
    "            ada_perbedaan = True\n",
    "            print(f\"Baris {i+1} BERBEDA:\")\n",
    "            print(f\"  file1.txt: {isi1}\")\n",
    "            print(f\"  file2.txt: {isi2}\\n\")\n",
    "\n",
    "    if not ada_perbedaan:\n",
    "        print(\"Kedua file identik.\")\n",
    "\n",
    "bandingkan_file(\"file1.txt\", \"file2.txt\")"
   ]
  }
 ],
 "metadata": {
  "kernelspec": {
   "display_name": "Python [conda env:base] *",
   "language": "python",
   "name": "conda-base-py"
  },
  "language_info": {
   "codemirror_mode": {
    "name": "ipython",
    "version": 3
   },
   "file_extension": ".py",
   "mimetype": "text/x-python",
   "name": "python",
   "nbconvert_exporter": "python",
   "pygments_lexer": "ipython3",
   "version": "3.12.7"
  }
 },
 "nbformat": 4,
 "nbformat_minor": 5
}
