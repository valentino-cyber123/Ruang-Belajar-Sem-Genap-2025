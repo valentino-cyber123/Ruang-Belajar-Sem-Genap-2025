{
 "cells": [
  {
   "cell_type": "code",
   "execution_count": 1,
   "id": "9a428c55-1044-4e73-b6af-2b8b828bc83a",
   "metadata": {},
   "outputs": [
    {
     "name": "stdout",
     "output_type": "stream",
     "text": [
      "1945-08-17 00:00:00 selisih 29108 hari\n",
      "1785-11-11 00:00:00 selisih 87460 hari\n",
      "1783-06-08 00:00:00 selisih 88347 hari\n",
      "1889-05-02 00:00:00 selisih 49668 hari\n"
     ]
    }
   ],
   "source": [
    "import re\n",
    "from datetime import datetime\n",
    "\n",
    "def cari_tanggal(kalimat):\n",
    "\n",
    "    tanggal_pattern = r'\\b(\\d{4})-(\\d{2})-(\\d{2})\\b'\n",
    "    tanggal_list = re.findall(tanggal_pattern, kalimat)\n",
    "\n",
    "    today = datetime.today()\n",
    "\n",
    "    hasil = []\n",
    "\n",
    "    for t in tanggal_list:\n",
    "\n",
    "        tanggal_str = '-'.join(t)\n",
    "        tanggal_obj = datetime.strptime(tanggal_str, '%Y-%m-%d')\n",
    "\n",
    "        tanggal_format = tanggal_obj.strftime('%d-%m-%Y')\n",
    "\n",
    "        selisih_hari = (today - tanggal_obj).days\n",
    "\n",
    "        hasil.append(f\"{tanggal_str} 00:00:00 selisih {selisih_hari} hari\")\n",
    "\n",
    "    return hasil\n",
    "\n",
    "kalimat = \"Pada tanggal 1945-08-17 Indonesia merdeka. Indonesia memiliki beberapa pahlawan nasional, seperti Pangeran Diponegoro (TL: 1785-11-11), Pattimura (TL: 1783-06-08) dan Ki Hajar Dewantara (1889-05-02).\"\n",
    "\n",
    "tanggal_hasil = cari_tanggal(kalimat)\n",
    "\n",
    "for t in tanggal_hasil:\n",
    "    print(t)"
   ]
  },
  {
   "cell_type": "code",
   "execution_count": null,
   "id": "fb95e7d3-83de-4930-b8d9-79d7c814bef6",
   "metadata": {},
   "outputs": [],
   "source": []
  }
 ],
 "metadata": {
  "kernelspec": {
   "display_name": "Python [conda env:base] *",
   "language": "python",
   "name": "conda-base-py"
  },
  "language_info": {
   "codemirror_mode": {
    "name": "ipython",
    "version": 3
   },
   "file_extension": ".py",
   "mimetype": "text/x-python",
   "name": "python",
   "nbconvert_exporter": "python",
   "pygments_lexer": "ipython3",
   "version": "3.12.7"
  }
 },
 "nbformat": 4,
 "nbformat_minor": 5
}
