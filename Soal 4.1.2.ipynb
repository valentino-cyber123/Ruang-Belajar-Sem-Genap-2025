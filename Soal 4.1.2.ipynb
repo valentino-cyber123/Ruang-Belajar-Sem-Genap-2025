{
 "cells": [
  {
   "cell_type": "code",
   "execution_count": 3,
   "id": "c76f58f2-0ca8-4bf8-b4cb-3dcb8d88b0f1",
   "metadata": {},
   "outputs": [
    {
     "name": "stdin",
     "output_type": "stream",
     "text": [
      "Silakan masukkan sebuah bilangan:  -1\n"
     ]
    },
    {
     "name": "stdout",
     "output_type": "stream",
     "text": [
      "Bilangan yang dimasukkan bernilai negatif.\n"
     ]
    }
   ],
   "source": [
    "try:\n",
    "    angka = int(input(\"Silakan masukkan sebuah bilangan: \"))\n",
    "\n",
    "    def periksa_bilangan(bil):\n",
    "        if bil < 0:\n",
    "            return \"Bilangan yang dimasukkan bernilai negatif.\"\n",
    "        elif bil == 0:  \n",
    "            return \"Bilangan yang dimasukkan adalah nol.\"\n",
    "        else:\n",
    "            return \"Bilangan yang dimasukkan bernilai positif.\"\n",
    "\n",
    "    print(periksa_bilangan(angka))\n",
    "\n",
    "except ValueError:\n",
    "    print(\"Input tidak valid. Mohon masukkan bilangan bulat.\")\n"
   ]
  },
  {
   "cell_type": "code",
   "execution_count": null,
   "id": "47797a24-2859-4676-88fc-78189f46fa97",
   "metadata": {},
   "outputs": [],
   "source": []
  }
 ],
 "metadata": {
  "kernelspec": {
   "display_name": "Python [conda env:base] *",
   "language": "python",
   "name": "conda-base-py"
  },
  "language_info": {
   "codemirror_mode": {
    "name": "ipython",
    "version": 3
   },
   "file_extension": ".py",
   "mimetype": "text/x-python",
   "name": "python",
   "nbconvert_exporter": "python",
   "pygments_lexer": "ipython3",
   "version": "3.12.7"
  }
 },
 "nbformat": 4,
 "nbformat_minor": 5
}
