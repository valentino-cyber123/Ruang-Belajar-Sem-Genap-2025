{
 "cells": [
  {
   "cell_type": "code",
   "execution_count": 11,
   "id": "3abbdb02-38a9-45f6-9513-2466d6b9ba0b",
   "metadata": {},
   "outputs": [
    {
     "name": "stdin",
     "output_type": "stream",
     "text": [
      "Masukkan usia Anda:  2\n"
     ]
    },
    {
     "name": "stdout",
     "output_type": "stream",
     "text": [
      "Balita\n"
     ]
    }
   ],
   "source": [
    "usia = int(input(\"Masukkan usia Anda: \"))\n",
    "\n",
    "if usia >= 60:\n",
    "    print(\"Lansia\")\n",
    "elif usia >= 18:\n",
    "    print(\"Dewasa\")\n",
    "elif usia >= 13:\n",
    "    print(\"Remaja\")\n",
    "elif usia >= 5:\n",
    "    print(\"Kanak-kanak\")\n",
    "else:\n",
    "    print(\"Balita\")"
   ]
  },
  {
   "cell_type": "code",
   "execution_count": null,
   "id": "5777cb83-0733-4034-86f4-20c878c7cf1d",
   "metadata": {},
   "outputs": [],
   "source": []
  }
 ],
 "metadata": {
  "kernelspec": {
   "display_name": "Python [conda env:base] *",
   "language": "python",
   "name": "conda-base-py"
  },
  "language_info": {
   "codemirror_mode": {
    "name": "ipython",
    "version": 3
   },
   "file_extension": ".py",
   "mimetype": "text/x-python",
   "name": "python",
   "nbconvert_exporter": "python",
   "pygments_lexer": "ipython3",
   "version": "3.12.7"
  }
 },
 "nbformat": 4,
 "nbformat_minor": 5
}
