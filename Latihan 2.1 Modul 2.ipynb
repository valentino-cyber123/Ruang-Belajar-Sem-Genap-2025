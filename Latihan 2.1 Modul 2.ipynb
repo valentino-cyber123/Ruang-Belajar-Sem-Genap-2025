{
 "cells": [
  {
   "cell_type": "code",
   "execution_count": 15,
   "id": "bfc4a396-6ae4-41bb-8f04-889dcc5912c7",
   "metadata": {},
   "outputs": [
    {
     "name": "stdin",
     "output_type": "stream",
     "text": [
      "Silakan input tinggi badan Anda (dalam meter):  1.75\n",
      "Silakan Input nilai BMI yang anda inginkan:  22\n"
     ]
    },
    {
     "name": "stdout",
     "output_type": "stream",
     "text": [
      "Berat badan yang dibutuhkan untuk mencapai indeks massa tubuh (BMI) ideal 22.0 adalah 67.38 kg.\n"
     ]
    }
   ],
   "source": [
    "Tinggi_badan = float(input(\"Silakan input tinggi badan Anda (dalam meter): \"))\n",
    "Nilai_BMI = float(input(\"Silakan Input nilai BMI yang anda inginkan: \"))\n",
    "Berat_badan = Nilai_BMI * (Tinggi_badan ** 2)\n",
    "\n",
    "print(f\"Berat badan yang dibutuhkan untuk mencapai indeks massa tubuh (BMI) ideal {Nilai_BMI} adalah {Berat_badan:.2f} kg.\")"
   ]
  }
 ],
 "metadata": {
  "kernelspec": {
   "display_name": "Python [conda env:base] *",
   "language": "python",
   "name": "conda-base-py"
  },
  "language_info": {
   "codemirror_mode": {
    "name": "ipython",
    "version": 3
   },
   "file_extension": ".py",
   "mimetype": "text/x-python",
   "name": "python",
   "nbconvert_exporter": "python",
   "pygments_lexer": "ipython3",
   "version": "3.12.7"
  }
 },
 "nbformat": 4,
 "nbformat_minor": 5
}
