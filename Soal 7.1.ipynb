{
 "cells": [
  {
   "cell_type": "code",
   "execution_count": 1,
   "id": "05262c17-cb3f-47f2-a9af-6dd19255f12b",
   "metadata": {},
   "outputs": [
    {
     "name": "stdin",
     "output_type": "stream",
     "text": [
      "Masukkan angka:  7\n"
     ]
    },
    {
     "name": "stdout",
     "output_type": "stream",
     "text": [
      "Bilangan prima terbesar yang lebih kecil dari 7 adalah 5\n"
     ]
    }
   ],
   "source": [
    "def is_prime(n):\n",
    "    if n < 2:\n",
    "        return False\n",
    "    for i in range(2, int(n ** 0.5) + 1):\n",
    "        if n % i == 0:\n",
    "            return False\n",
    "    return True\n",
    "\n",
    "def nearest_prime(n):\n",
    "    for num in range(n - 1, 1, -1):\n",
    "        if is_prime(num):\n",
    "            return num\n",
    "    return None\n",
    "\n",
    "n = int(input(\"Masukkan angka: \"))\n",
    "result = nearest_prime(n)\n",
    "\n",
    "if result:\n",
    "    print(f\"Bilangan prima terbesar yang lebih kecil dari {n} adalah {result}\")\n",
    "else:\n",
    "    print(\"Tidak ada bilangan prima yang lebih kecil dari angka yang dimasukkan.\")\n"
   ]
  },
  {
   "cell_type": "code",
   "execution_count": null,
   "id": "9cb75970-b903-4e16-ac15-40ea2b24faa5",
   "metadata": {},
   "outputs": [],
   "source": []
  }
 ],
 "metadata": {
  "kernelspec": {
   "display_name": "Python [conda env:base] *",
   "language": "python",
   "name": "conda-base-py"
  },
  "language_info": {
   "codemirror_mode": {
    "name": "ipython",
    "version": 3
   },
   "file_extension": ".py",
   "mimetype": "text/x-python",
   "name": "python",
   "nbconvert_exporter": "python",
   "pygments_lexer": "ipython3",
   "version": "3.12.7"
  }
 },
 "nbformat": 4,
 "nbformat_minor": 5
}
