{
 "cells": [
  {
   "cell_type": "code",
   "execution_count": 1,
   "id": "033e71c9-b5b8-4706-87b8-7faa27c1a7b8",
   "metadata": {},
   "outputs": [
    {
     "name": "stdout",
     "output_type": "stream",
     "text": [
      "30\n",
      "70\n"
     ]
    }
   ],
   "source": [
    "def perkalian(a, b):\n",
    "    hasil = 0\n",
    "    for _ in range(a):\n",
    "        hasil += b\n",
    "    return hasil\n",
    "\n",
    "# Contoh penggunaan\n",
    "print(perkalian(6, 5))  \n",
    "print(perkalian(7, 10)) "
   ]
  },
  {
   "cell_type": "code",
   "execution_count": null,
   "id": "f2589e6a-e865-40ed-a720-ea2c6350fbdb",
   "metadata": {},
   "outputs": [],
   "source": []
  }
 ],
 "metadata": {
  "kernelspec": {
   "display_name": "Python [conda env:base] *",
   "language": "python",
   "name": "conda-base-py"
  },
  "language_info": {
   "codemirror_mode": {
    "name": "ipython",
    "version": 3
   },
   "file_extension": ".py",
   "mimetype": "text/x-python",
   "name": "python",
   "nbconvert_exporter": "python",
   "pygments_lexer": "ipython3",
   "version": "3.12.7"
  }
 },
 "nbformat": 4,
 "nbformat_minor": 5
}
