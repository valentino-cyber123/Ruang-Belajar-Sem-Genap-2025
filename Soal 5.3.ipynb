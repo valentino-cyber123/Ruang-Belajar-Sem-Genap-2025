{
 "cells": [
  {
   "cell_type": "code",
   "execution_count": 1,
   "id": "21c1df0b-dd33-4881-bcbb-12a71ee3905c",
   "metadata": {},
   "outputs": [
    {
     "name": "stdout",
     "output_type": "stream",
     "text": [
      "212.0\n",
      "64.0\n",
      "32.0\n"
     ]
    }
   ],
   "source": [
    "celcius_to_fahrenheit = lambda C: (9/5) * C + 32\n",
    "celcius_to_reamur = lambda C: 0.8 * C\n",
    "\n",
    "# Contoh penggunaan\n",
    "print(celcius_to_fahrenheit(100))  # Output: 212\n",
    "print(celcius_to_reamur(80))       # Output: 64\n",
    "print(celcius_to_fahrenheit(0))    # Output: 32"
   ]
  },
  {
   "cell_type": "code",
   "execution_count": null,
   "id": "f96221a4-e256-42a0-968d-58658335c205",
   "metadata": {},
   "outputs": [],
   "source": []
  }
 ],
 "metadata": {
  "kernelspec": {
   "display_name": "Python [conda env:base] *",
   "language": "python",
   "name": "conda-base-py"
  },
  "language_info": {
   "codemirror_mode": {
    "name": "ipython",
    "version": 3
   },
   "file_extension": ".py",
   "mimetype": "text/x-python",
   "name": "python",
   "nbconvert_exporter": "python",
   "pygments_lexer": "ipython3",
   "version": "3.12.7"
  }
 },
 "nbformat": 4,
 "nbformat_minor": 5
}
