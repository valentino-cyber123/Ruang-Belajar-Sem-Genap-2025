{
 "cells": [
  {
   "cell_type": "code",
   "execution_count": 2,
   "id": "a1d9c70e-ed99-4675-85da-b5db4a013a60",
   "metadata": {},
   "outputs": [
    {
     "name": "stdout",
     "output_type": "stream",
     "text": [
      "{'media.berkeley.edu': 4, 'uct.ac.za': 6, 'umich.edu': 7, 'gmail.com': 1, 'caret.cam.ac.uk': 1, 'iupui.edu': 8}\n"
     ]
    }
   ],
   "source": [
    "domains = {}\n",
    "with open(\"mbox-short.txt\") as f:\n",
    "    for line in f:\n",
    "        if line.startswith(\"From \"):\n",
    "            words = line.split()\n",
    "            email = words[1]\n",
    "            domain = email.split('@')[1]\n",
    "            domains[domain] = domains.get(domain, 0) + 1\n",
    "\n",
    "print(domains)"
   ]
  }
 ],
 "metadata": {
  "kernelspec": {
   "display_name": "Python [conda env:base] *",
   "language": "python",
   "name": "conda-base-py"
  },
  "language_info": {
   "codemirror_mode": {
    "name": "ipython",
    "version": 3
   },
   "file_extension": ".py",
   "mimetype": "text/x-python",
   "name": "python",
   "nbconvert_exporter": "python",
   "pygments_lexer": "ipython3",
   "version": "3.12.7"
  }
 },
 "nbformat": 4,
 "nbformat_minor": 5
}
