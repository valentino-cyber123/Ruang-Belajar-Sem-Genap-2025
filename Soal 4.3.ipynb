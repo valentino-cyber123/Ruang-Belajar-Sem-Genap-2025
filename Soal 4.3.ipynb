{
 "cells": [
  {
   "cell_type": "code",
   "execution_count": 1,
   "id": "6898271a-d088-4c2f-8069-547d6ef80d3e",
   "metadata": {},
   "outputs": [
    {
     "name": "stdin",
     "output_type": "stream",
     "text": [
      "Masukkan bulan (1-12):  10\n"
     ]
    },
    {
     "name": "stdout",
     "output_type": "stream",
     "text": [
      "Jumlah hari: 31\n"
     ]
    }
   ],
   "source": [
    "def jumlah_hari(bulan):\n",
    "    hari_per_bulan = {\n",
    "        1: 31, 2: 29, 3: 31, 4: 30, 5: 31, 6: 30,\n",
    "        7: 31, 8: 31, 9: 30, 10: 31, 11: 30, 12: 31\n",
    "    }\n",
    "    return hari_per_bulan.get(bulan, None)\n",
    "\n",
    "try:\n",
    "    bulan = int(input(\"Masukkan bulan (1-12): \"))\n",
    "    hari = jumlah_hari(bulan)\n",
    "    if hari:\n",
    "        print(f\"Jumlah hari: {hari}\")\n",
    "    else:\n",
    "        print(\"Bulan yang diinputkan tidak valid. Silakan masukkan angka antara 1-12.\")\n",
    "\n",
    "except ValueError:\n",
    "    print(\"Input harus berupa angka antara 1-12.\")\n"
   ]
  },
  {
   "cell_type": "code",
   "execution_count": null,
   "id": "52583394-f260-4ca9-8f52-c9581e194a5a",
   "metadata": {},
   "outputs": [],
   "source": []
  }
 ],
 "metadata": {
  "kernelspec": {
   "display_name": "Python [conda env:base] *",
   "language": "python",
   "name": "conda-base-py"
  },
  "language_info": {
   "codemirror_mode": {
    "name": "ipython",
    "version": 3
   },
   "file_extension": ".py",
   "mimetype": "text/x-python",
   "name": "python",
   "nbconvert_exporter": "python",
   "pygments_lexer": "ipython3",
   "version": "3.12.7"
  }
 },
 "nbformat": 4,
 "nbformat_minor": 5
}
